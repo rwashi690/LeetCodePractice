{
 "cells": [
  {
   "cell_type": "markdown",
   "metadata": {},
   "source": [
    "Given an array of integers nums and an integer target, return indices of the two numbers such that they add up to target.\n",
    "\n",
    "You may assume that each input would have exactly one solution, and you may not use the same element twice.\n",
    "\n",
    "You can return the answer in any order.\n",
    "\n",
    "Example 1:\n",
    "Input: nums = [2,7,11,15], target = 9\n",
    "Output: [0,1]\n",
    "Explanation: Because nums[0] + nums[1] == 9, we return [0, 1].\n",
    "\n",
    "Example 2:\n",
    "Input: nums = [3,2,4], target = 6\n",
    "Output: [1,2]\n",
    "\n",
    "Example 3:\n",
    "Input: nums = [3,3], target = 6\n",
    "Output: [0,1]\n",
    "\n",
    "source: https://leetcode.com/problems/two-sum/"
   ]
  },
  {
   "cell_type": "code",
   "execution_count": 16,
   "metadata": {},
   "outputs": [],
   "source": [
    "#Define an empty array for the answer\n",
    "ans = []\n",
    "\n",
    "# Define a function that takes an array of numbers and a target for addition\n",
    "def twoSum (Arr, Target):\n",
    "    for i in range(len(Arr)):\n",
    "        for j in range(i+1, len(arr)):\n",
    "            if Arr[i]+Arr[j] == Target:\n",
    "                ans.append(i)\n",
    "                ans.append(j)\n",
    "    return ans\n",
    "\n",
    "# This has a time and space complexity of O(N^2)"
   ]
  },
  {
   "cell_type": "code",
   "execution_count": 24,
   "metadata": {},
   "outputs": [],
   "source": [
    "#Different approach with a smaller Big-O notation\n",
    "ans = []\n",
    "\n",
    "#Define another function with the same name \n",
    "def twoSum (Arr, Target):\n",
    "    #Will be solved by using a complement map by looking if there are numbers the subtract from a single number will meet the target\n",
    "    compMap = dict()\n",
    "    for i in range(len(Arr)):\n",
    "        iVal =Arr[i]\n",
    "        comp = Target - iVal\n",
    "        if iVal in compMap:\n",
    "            ans.append(compMap[iVal])\n",
    "            ans.append(i)\n",
    "            # return [complementMap[complement], i]\n",
    "        else:\n",
    "            compMap[comp] = i\n",
    "    return ans\n",
    "\n",
    "#This solution has a time and space complexity of O(N)"
   ]
  },
  {
   "cell_type": "code",
   "execution_count": 25,
   "metadata": {},
   "outputs": [
    {
     "data": {
      "text/plain": [
       "[0, 1]"
      ]
     },
     "execution_count": 25,
     "metadata": {},
     "output_type": "execute_result"
    }
   ],
   "source": [
    "ans =[]\n",
    "arr =[2,7,11,15]\n",
    "target=9\n",
    "\n",
    "twoSum(arr, target)"
   ]
  }
 ],
 "metadata": {
  "interpreter": {
   "hash": "31f2aee4e71d21fbe5cf8b01ff0e069b9275f58929596ceb00d14d90e3e16cd6"
  },
  "kernelspec": {
   "display_name": "Python 3.8.9 64-bit",
   "language": "python",
   "name": "python3"
  },
  "language_info": {
   "codemirror_mode": {
    "name": "ipython",
    "version": 3
   },
   "file_extension": ".py",
   "mimetype": "text/x-python",
   "name": "python",
   "nbconvert_exporter": "python",
   "pygments_lexer": "ipython3",
   "version": "3.8.9"
  },
  "orig_nbformat": 4
 },
 "nbformat": 4,
 "nbformat_minor": 2
}
