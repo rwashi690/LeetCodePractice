{
 "cells": [
  {
   "cell_type": "markdown",
   "metadata": {},
   "source": [
    "Write a function that takes an array of numbers and returns an array with each number doubled. \n",
    "\n",
    "Ex:\n",
    "Input: [1,2,3]\n",
    "Output: [2,4,6]\n",
    "\n",
    "Input: [-1,-2,-3]\n",
    "Output: [-2, -4, -6]\n"
   ]
  },
  {
   "cell_type": "code",
   "execution_count": 9,
   "metadata": {},
   "outputs": [],
   "source": [
    "doubleArr =[]\n",
    "testArr =[1,2,3,4]\n",
    "\n",
    "#Make a function to multiply by two\n",
    "def timesTwo(x):\n",
    "    return x*2\n",
    "\n",
    "#Then double the array using the timesTwo function and a for loop\n",
    "def doubleIt(Arr):\n",
    "    for x in Arr:\n",
    "        y = timesTwo(x)\n",
    "        doubleArr.append(y)\n",
    "    #Then we print and return the array\n",
    "    return(doubleArr)\n",
    "\n"
   ]
  },
  {
   "cell_type": "code",
   "execution_count": 10,
   "metadata": {},
   "outputs": [
    {
     "name": "stdout",
     "output_type": "stream",
     "text": [
      "[2, 4, 6, 8]\n"
     ]
    },
    {
     "data": {
      "text/plain": [
       "[2, 4, 6, 8]"
      ]
     },
     "execution_count": 10,
     "metadata": {},
     "output_type": "execute_result"
    }
   ],
   "source": [
    "doubleIt(testArr)"
   ]
  }
 ],
 "metadata": {
  "interpreter": {
   "hash": "31f2aee4e71d21fbe5cf8b01ff0e069b9275f58929596ceb00d14d90e3e16cd6"
  },
  "kernelspec": {
   "display_name": "Python 3.8.9 64-bit",
   "language": "python",
   "name": "python3"
  },
  "language_info": {
   "codemirror_mode": {
    "name": "ipython",
    "version": 3
   },
   "file_extension": ".py",
   "mimetype": "text/x-python",
   "name": "python",
   "nbconvert_exporter": "python",
   "pygments_lexer": "ipython3",
   "version": "3.8.9"
  },
  "orig_nbformat": 4
 },
 "nbformat": 4,
 "nbformat_minor": 2
}
