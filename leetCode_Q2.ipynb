{
 "cells": [
  {
   "cell_type": "markdown",
   "metadata": {},
   "source": [
    "Given an integer n, return a string array answer (1-indexed) where:\n",
    "answer[i] == \"FizzBuzz\" if i is divisible by 3 and 5.\n",
    "answer[i] == \"Fizz\" if i is divisible by 3.\n",
    "answer[i] == \"Buzz\" if i is divisible by 5.\n",
    "answer[i] == i (as a string) if none of the above conditions are true.\n",
    "\n",
    "Examples\n",
    "Input: n = 3\n",
    "Output: [\"1\",\"2\",\"Fizz\"]\n",
    "\n",
    "Input: n = 5\n",
    "Output: [\"1\",\"2\",\"Fizz\",\"4\",\"Buzz\"]\n",
    "\n",
    "Input: n = 15\n",
    "Output: [\"1\",\"2\",\"Fizz\",\"4\",\"Buzz\",\"Fizz\",\"7\",\"8\",\"Fizz\",\"Buzz\",\"11\",\"Fizz\",\"13\",\"14\",\"FizzBuzz\"]\n",
    "\n",
    "Constraint\n",
    "1 <= n <= 10^4"
   ]
  },
  {
   "cell_type": "code",
   "execution_count": 30,
   "metadata": {},
   "outputs": [],
   "source": [
    "# First I am going to define an empty array for my answer \n",
    "ans=[]\n",
    "\n",
    "def FizzBuzz(int):\n",
    "    #Instead of iterating over a list I will iterate over the integer itself\n",
    "    for x in range(1,int+1):\n",
    "        if x % 3 == 0 and x % 5 ==0:\n",
    "            ans.append('FizzBuzz')\n",
    "        elif x % 3 == 0: \n",
    "             ans.append('Fizz')\n",
    "        elif x % 5 == 0:\n",
    "             ans.append('Buzz')\n",
    "        else:\n",
    "            ans.append(str(x))\n",
    "    return ans"
   ]
  },
  {
   "cell_type": "code",
   "execution_count": 33,
   "metadata": {},
   "outputs": [
    {
     "data": {
      "text/plain": [
       "['1',\n",
       " '2',\n",
       " 'Fizz',\n",
       " '4',\n",
       " 'Buzz',\n",
       " 'Fizz',\n",
       " '7',\n",
       " '8',\n",
       " 'Fizz',\n",
       " 'Buzz',\n",
       " '11',\n",
       " 'Fizz',\n",
       " '13',\n",
       " '14',\n",
       " 'FizzBuzz',\n",
       " '16',\n",
       " '17',\n",
       " 'Fizz',\n",
       " '19',\n",
       " 'Buzz',\n",
       " 'Fizz',\n",
       " '22',\n",
       " '23',\n",
       " 'Fizz',\n",
       " 'Buzz',\n",
       " '26',\n",
       " 'Fizz',\n",
       " '28',\n",
       " '29',\n",
       " 'FizzBuzz']"
      ]
     },
     "execution_count": 33,
     "metadata": {},
     "output_type": "execute_result"
    }
   ],
   "source": [
    "ans=[]\n",
    "\n",
    "int =30\n",
    "\n",
    "FizzBuzz(int)"
   ]
  }
 ],
 "metadata": {
  "interpreter": {
   "hash": "31f2aee4e71d21fbe5cf8b01ff0e069b9275f58929596ceb00d14d90e3e16cd6"
  },
  "kernelspec": {
   "display_name": "Python 3.8.9 64-bit",
   "language": "python",
   "name": "python3"
  },
  "language_info": {
   "codemirror_mode": {
    "name": "ipython",
    "version": 3
   },
   "file_extension": ".py",
   "mimetype": "text/x-python",
   "name": "python",
   "nbconvert_exporter": "python",
   "pygments_lexer": "ipython3",
   "version": "3.8.9"
  },
  "orig_nbformat": 4
 },
 "nbformat": 4,
 "nbformat_minor": 2
}
